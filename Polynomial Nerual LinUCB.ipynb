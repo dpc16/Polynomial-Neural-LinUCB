{
  "cells": [
    {
      "cell_type": "markdown",
      "source": [
        "## **Importing Libraries**"
      ],
      "metadata": {
        "id": "_IpIG9WsnG2-"
      }
    },
    {
      "cell_type": "code",
      "execution_count": null,
      "metadata": {
        "id": "aMwGvFBnc8qq"
      },
      "outputs": [],
      "source": [
        "import os\n",
        "import numpy as np\n",
        "import math\n",
        "import copy\n",
        "import random\n",
        "import datetime\n",
        "import pandas as pd\n",
        "import copy\n",
        "from scipy.optimize import minimize_scalar"
      ]
    },
    {
      "cell_type": "code",
      "source": [
        "np.random.normal(0,1,1)"
      ],
      "metadata": {
        "colab": {
          "base_uri": "https://localhost:8080/"
        },
        "id": "kq51Ov5q5GQB",
        "outputId": "7de6d6e4-d84e-4491-9c3e-c1b3526fb091"
      },
      "execution_count": null,
      "outputs": [
        {
          "output_type": "execute_result",
          "data": {
            "text/plain": [
              "array([0.43354964])"
            ]
          },
          "metadata": {},
          "execution_count": 30
        }
      ]
    },
    {
      "cell_type": "markdown",
      "source": [
        "Plotting actual reward function and getting it's maxima"
      ],
      "metadata": {
        "id": "oW0dNvDsnXZo"
      }
    },
    {
      "cell_type": "code",
      "execution_count": null,
      "metadata": {
        "id": "thw6zA0njTw6",
        "colab": {
          "base_uri": "https://localhost:8080/"
        },
        "outputId": "92dda063-6a5d-430d-a90e-f67f56debff7"
      },
      "outputs": [
        {
          "output_type": "stream",
          "name": "stdout",
          "text": [
            "Actual Reward maxima at : 50.0\n",
            "Actual Reward maximum value: 2510.0\n"
          ]
        }
      ],
      "source": [
        "#Getting actual reward value\n",
        "def f(x):\n",
        "  return (10+100*x-(x**2))\n",
        "max_x = minimize_scalar(lambda x: -f(x),bounds=(0, 100), method='bounded')\n",
        "max_act = max_x.x\n",
        "print('Actual Reward maxima at :',max_act)\n",
        "print('Actual Reward maximum value:',f(max_x.x))"
      ]
    },
    {
      "cell_type": "code",
      "execution_count": null,
      "metadata": {
        "colab": {
          "base_uri": "https://localhost:8080/",
          "height": 295
        },
        "id": "bn8p1M5R3jfl",
        "outputId": "52e9318e-de32-49c2-be3c-68c34da09482"
      },
      "outputs": [
        {
          "output_type": "display_data",
          "data": {
            "text/plain": [
              "<Figure size 432x288 with 1 Axes>"
            ],
            "image/png": "[encoded data removed]"
          },
          "metadata": {
            "needs_background": "light"
          }
        }
      ],
      "source": [
        "import matplotlib.pyplot as plt\n",
        "act_rew_val = []\n",
        "x_axis = np.arange(0,100,1)\n",
        "for i in range(0,100):\n",
        "  act_rew_val.append(f(i))\n",
        "plt.plot(x_axis,act_rew_val)\n",
        "plt.xlabel('Arm')\n",
        "plt.ylabel('Actual Reward values')\n",
        "plt.title('Actul Reward Function')\n",
        "plt.show()"
      ]
    },
    {
      "cell_type": "markdown",
      "source": [
        "Function to update matrix A"
      ],
      "metadata": {
        "id": "I3SzUr6dn6DL"
      }
    },
    {
      "cell_type": "code",
      "execution_count": null,
      "metadata": {
        "id": "Zs5s0TYIXoSY"
      },
      "outputs": [],
      "source": [
        "#update LAMBDA\n",
        "def update_A(a):\n",
        "  A = np.array([[1,a,a**2]])\n",
        "  return np.matmul(np.transpose(A),A)"
      ]
    },
    {
      "cell_type": "markdown",
      "source": [
        "Function to update B vector"
      ],
      "metadata": {
        "id": "WXipwB9VoooG"
      }
    },
    {
      "cell_type": "code",
      "execution_count": null,
      "metadata": {
        "id": "zVbYp8mHaeS_"
      },
      "outputs": [],
      "source": [
        "# update bb\n",
        "def updateBB(a):\n",
        "  B = np.array([[1,a,a**2]])\n",
        "  return np.transpose(B)"
      ]
    },
    {
      "cell_type": "markdown",
      "source": [
        "Main Function"
      ],
      "metadata": {
        "id": "NHiSJPsXo7Aa"
      }
    },
    {
      "cell_type": "code",
      "execution_count": null,
      "metadata": {
        "colab": {
          "base_uri": "https://localhost:8080/"
        },
        "id": "2zYoIUXev1lN",
        "outputId": "6a1754c8-6bef-4021-c6b8-1247b66db60b"
      },
      "outputs": [
        {
          "output_type": "stream",
          "name": "stdout",
          "text": [
            "A0: \n",
            " [[1. 0. 0.]\n",
            " [0. 1. 0.]\n",
            " [0. 0. 1.]]\n",
            "b0: \n",
            " [[0.]\n",
            " [0.]\n",
            " [0.]]\n",
            "theta0: \n",
            " [[0.58801745]\n",
            " [0.13338574]\n",
            " [0.32624599]]\n",
            "Theta after  15000  iteration: \n",
            " [[-0.00065039]\n",
            " [-0.02014475]\n",
            " [ 0.33085626]]\n",
            "    Action Choosen  Cumulative Regret\n",
            "0             50.0        1684.886816\n",
            "1             50.0        3367.906206\n",
            "2             50.0        5052.836652\n",
            "3             50.0        6736.165492\n",
            "4             50.0        8420.358255\n",
            "..             ...                ...\n",
            "95            50.0      161646.644046\n",
            "96            50.0      163330.061267\n",
            "97            50.0      165011.993182\n",
            "98            50.0      166697.136791\n",
            "99            50.0      168382.216740\n",
            "\n",
            "[100 rows x 2 columns]\n"
          ]
        }
      ],
      "source": [
        "## Initializing parameters and hyperparameters\n",
        "\n",
        "# Total time step\n",
        "T = 15000\n",
        "# Intializing value of lambda which helps in initializing matrix A\n",
        "lambd = 1\n",
        "\n",
        "## For initial e_t*T iteration we will choose action\n",
        "e_t = 0.09\n",
        "\n",
        "# Matrix A which updates theta, here written as LAMBDA\n",
        "LAMBDA = lambd * np.identity(3, dtype= np.double)\n",
        "print('A0: \\n', LAMBDA)\n",
        "\n",
        "# B vector which also updates theta, here written as bb\n",
        "bb = np.zeros((3,1),dtype= np.double)\n",
        "print('b0: \\n',bb)\n",
        "\n",
        "# Initializing theta \n",
        "np.random.seed(0)\n",
        "theta = np.random.normal(0,1/3,size=(3,1))\n",
        "print('theta0: \\n',theta)\n",
        "\n",
        "# Alpha will control exploitation-exploration trade-off\n",
        "alpha = 1\n",
        "\n",
        "# It will store cumulative regret\n",
        "result_neuralucb = []\n",
        "summ = 0\n",
        "\n",
        "# Store all values of action choosen\n",
        "action_chosen = []\n",
        "\n",
        "# Loop 10,000 iteration\n",
        "for t in range(0, T):\n",
        "    a_sol = np.linalg.inv(LAMBDA)  #A0 inverse\n",
        "    \n",
        "    # Defining function\n",
        "\n",
        "    # Norm of vector\n",
        "    norm1 = (lambda x : (a_sol[2][2]*(x**4)+ (a_sol[1][2]+a_sol[2][1])*x**3 + (a_sol[0][2]+a_sol[1][1]+a_sol[2][0])*(x**2) + (a_sol[0][1]+a_sol[1][0])*x + a_sol[0][0]))\n",
        "    \n",
        "    ## Function will choose best arm \n",
        "    ucb = (lambda x : theta[0][0]*1+theta[1][0]*x+theta[2][0]*(x**2) + alpha * np.sqrt(norm1(x)))\n",
        "    if (t<e_t*T):\n",
        "        a_c = max_act\n",
        "\n",
        "    else:\n",
        "        #choosen arm, maximum of ucb function will get us best arm\n",
        "        a_choose = minimize_scalar(lambda x: -ucb(x),bounds=(0, 100), method='bounded')\n",
        "        a_c = a_choose.x\n",
        "\n",
        "    # Current Reward\n",
        "    rew = np.matmul(np.array([[1,a_c,a_c**2]]),theta) + (np.random.normal(0,1,1))\n",
        "    # actual reward\n",
        "    act_rew = 10+100*(a_c)-((a_c)**2)\n",
        "    # difference between actual and current reward\n",
        "    summ += abs(act_rew-rew.item())\n",
        "    ## Appending cumulative regret \n",
        "    result_neuralucb.append(summ)\n",
        "    ## Appending action choosen at all iteration\n",
        "    action_chosen.append(a_c)\n",
        "    \n",
        "    # update LAMBDA and bb\n",
        "    LAMBDA += update_A(a_c)\n",
        "    bb += rew * updateBB(a_c)\n",
        "    aa = np.linalg.inv(LAMBDA)\n",
        "    theta = np.matmul(aa,bb)\n",
        "    #### Loop end\n",
        "\n",
        "\n",
        "print('Theta after ',T,' iteration: \\n',theta)\n",
        "## Storing action choosen by algorithm and cumulative Regret at each iteration in pandas data frame\n",
        "df =  pd.DataFrame(list(zip(action_chosen,result_neuralucb)),columns=['Action Choosen','Cumulative Regret'])\n",
        "print(df.head(100))"
      ]
    },
    {
      "cell_type": "code",
      "execution_count": null,
      "metadata": {
        "colab": {
          "base_uri": "https://localhost:8080/",
          "height": 621
        },
        "id": "F7Pr7UMhge1x",
        "outputId": "9f719aff-fc34-44c4-cf4c-f071b83764c4"
      },
      "outputs": [
        {
          "output_type": "display_data",
          "data": {
            "text/plain": [
              "<Figure size 720x720 with 1 Axes>"
            ],
            "image/png": "[encoded data removed]"
          },
          "metadata": {
            "needs_background": "light"
          }
        }
      ],
      "source": [
        "# Cumulative Regret plot\n",
        "f = plt.figure()\n",
        "f.set_figwidth(10)\n",
        "f.set_figheight(10)\n",
        "plt.plot(result_neuralucb)\n",
        "plt.xlabel('Time Step')\n",
        "plt.ylabel('Regret')\n",
        "plt.title('Cumulative Regret')\n",
        "f.savefig('regret.png')\n",
        "plt.show()"
      ]
    }
  ],
  "metadata": {
    "colab": {
      "provenance": []
    },
    "kernelspec": {
      "display_name": "Python 3",
      "name": "python3"
    },
    "language_info": {
      "name": "python"
    }
  },
  "nbformat": 4,
  "nbformat_minor": 0
}